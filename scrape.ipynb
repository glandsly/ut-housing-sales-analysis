{
 "cells": [
  {
   "cell_type": "code",
   "execution_count": 193,
   "metadata": {},
   "outputs": [],
   "source": [
    "# Dependencies\n",
    "from bs4 import BeautifulSoup as bs\n",
    "import requests\n",
    "from splinter import Browser\n",
    "import time\n",
    "import pandas as pd"
   ]
  },
  {
   "cell_type": "code",
   "execution_count": 194,
   "metadata": {},
   "outputs": [],
   "source": [
    "executable_path = {'executable_path': 'chromedriver'}\n",
    "browser = Browser('chrome', **executable_path, headless=False)\n",
    "\n",
    "url = \"https://www.recenter.tamu.edu/data/housing-activity#!/activity/State/Texas\"\n",
    "\n",
    "browser.visit(url)\n",
    "html = browser.html\n",
    "soup = bs(html, 'html.parser')\n",
    "\n",
    "head = soup.find_all('thead')\n",
    "body = soup.find_all('tbody')\n"
   ]
  },
  {
   "cell_type": "code",
   "execution_count": 200,
   "metadata": {
    "tags": [
     "outputPrepend"
    ]
   },
   "outputs": [],
   "source": [
    "list_rows = []\n",
    "\n",
    "for items in body:\n",
    "    itemTD = items.find_all('tr')\n",
    "   \n",
    "    for item in itemTD:\n",
    "        list_cells = []\n",
    "        for x in range(7):\n",
    "            list_cells.append(item.find_all('td')[x].text)\n",
    "        list_rows.append(list_cells)"
   ]
  },
  {
   "cell_type": "code",
   "execution_count": 201,
   "metadata": {},
   "outputs": [],
   "source": [
    "housing_df = pd.DataFrame(list_rows)"
   ]
  },
  {
   "cell_type": "code",
   "execution_count": 202,
   "metadata": {},
   "outputs": [],
   "source": [
    "housing_df.columns = ['Date','Sales','Dollar Volume','Average Price','Median Price','Total Listings', 'Months Inventory']"
   ]
  },
  {
   "cell_type": "code",
   "execution_count": 203,
   "metadata": {},
   "outputs": [
    {
     "output_type": "execute_result",
     "data": {
      "text/plain": "         Date   Sales  Dollar Volume Average Price Median Price  \\\n0    Jan 1990   7,741    655,670,441        84,701       62,914   \n1    Feb 1990   6,200    530,013,200        85,486       68,783   \n2    Mar 1990   8,545    727,418,760        85,128       68,783   \n3    Apr 1990   8,245    708,229,010        85,898       68,490   \n4    May 1990   9,309    811,502,766        87,174       68,294   \n..        ...     ...            ...           ...          ...   \n359  Dec 2019  29,605  8,901,008,813       300,659      248,000   \n360  Jan 2020  20,943  5,822,554,441       278,019      232,500   \n361  Feb 2020  24,851  7,259,218,987       292,110      243,000   \n362  Mar 2020  30,763  9,171,616,670       298,138      248,000   \n363  Apr 2020  26,121  7,748,094,633       296,623      249,990   \n\n    Total Listings Months Inventory  \n0           93,041             12.0  \n1          102,099             14.6  \n2          104,780             14.0  \n3          106,347             13.8  \n4          106,866             13.3  \n..             ...              ...  \n359         92,745              3.1  \n360         95,351              3.2  \n361         95,851              3.2  \n362         97,389              3.2  \n363         98,605              3.3  \n\n[364 rows x 7 columns]",
      "text/html": "<div>\n<style scoped>\n    .dataframe tbody tr th:only-of-type {\n        vertical-align: middle;\n    }\n\n    .dataframe tbody tr th {\n        vertical-align: top;\n    }\n\n    .dataframe thead th {\n        text-align: right;\n    }\n</style>\n<table border=\"1\" class=\"dataframe\">\n  <thead>\n    <tr style=\"text-align: right;\">\n      <th></th>\n      <th>Date</th>\n      <th>Sales</th>\n      <th>Dollar Volume</th>\n      <th>Average Price</th>\n      <th>Median Price</th>\n      <th>Total Listings</th>\n      <th>Months Inventory</th>\n    </tr>\n  </thead>\n  <tbody>\n    <tr>\n      <td>0</td>\n      <td>Jan 1990</td>\n      <td>7,741</td>\n      <td>655,670,441</td>\n      <td>84,701</td>\n      <td>62,914</td>\n      <td>93,041</td>\n      <td>12.0</td>\n    </tr>\n    <tr>\n      <td>1</td>\n      <td>Feb 1990</td>\n      <td>6,200</td>\n      <td>530,013,200</td>\n      <td>85,486</td>\n      <td>68,783</td>\n      <td>102,099</td>\n      <td>14.6</td>\n    </tr>\n    <tr>\n      <td>2</td>\n      <td>Mar 1990</td>\n      <td>8,545</td>\n      <td>727,418,760</td>\n      <td>85,128</td>\n      <td>68,783</td>\n      <td>104,780</td>\n      <td>14.0</td>\n    </tr>\n    <tr>\n      <td>3</td>\n      <td>Apr 1990</td>\n      <td>8,245</td>\n      <td>708,229,010</td>\n      <td>85,898</td>\n      <td>68,490</td>\n      <td>106,347</td>\n      <td>13.8</td>\n    </tr>\n    <tr>\n      <td>4</td>\n      <td>May 1990</td>\n      <td>9,309</td>\n      <td>811,502,766</td>\n      <td>87,174</td>\n      <td>68,294</td>\n      <td>106,866</td>\n      <td>13.3</td>\n    </tr>\n    <tr>\n      <td>...</td>\n      <td>...</td>\n      <td>...</td>\n      <td>...</td>\n      <td>...</td>\n      <td>...</td>\n      <td>...</td>\n      <td>...</td>\n    </tr>\n    <tr>\n      <td>359</td>\n      <td>Dec 2019</td>\n      <td>29,605</td>\n      <td>8,901,008,813</td>\n      <td>300,659</td>\n      <td>248,000</td>\n      <td>92,745</td>\n      <td>3.1</td>\n    </tr>\n    <tr>\n      <td>360</td>\n      <td>Jan 2020</td>\n      <td>20,943</td>\n      <td>5,822,554,441</td>\n      <td>278,019</td>\n      <td>232,500</td>\n      <td>95,351</td>\n      <td>3.2</td>\n    </tr>\n    <tr>\n      <td>361</td>\n      <td>Feb 2020</td>\n      <td>24,851</td>\n      <td>7,259,218,987</td>\n      <td>292,110</td>\n      <td>243,000</td>\n      <td>95,851</td>\n      <td>3.2</td>\n    </tr>\n    <tr>\n      <td>362</td>\n      <td>Mar 2020</td>\n      <td>30,763</td>\n      <td>9,171,616,670</td>\n      <td>298,138</td>\n      <td>248,000</td>\n      <td>97,389</td>\n      <td>3.2</td>\n    </tr>\n    <tr>\n      <td>363</td>\n      <td>Apr 2020</td>\n      <td>26,121</td>\n      <td>7,748,094,633</td>\n      <td>296,623</td>\n      <td>249,990</td>\n      <td>98,605</td>\n      <td>3.3</td>\n    </tr>\n  </tbody>\n</table>\n<p>364 rows × 7 columns</p>\n</div>"
     },
     "metadata": {},
     "execution_count": 203
    }
   ],
   "source": [
    "housing_df"
   ]
  },
  {
   "cell_type": "code",
   "execution_count": null,
   "metadata": {},
   "outputs": [],
   "source": []
  }
 ],
 "metadata": {
  "language_info": {
   "codemirror_mode": {
    "name": "ipython",
    "version": 3
   },
   "file_extension": ".py",
   "mimetype": "text/x-python",
   "name": "python",
   "nbconvert_exporter": "python",
   "pygments_lexer": "ipython3",
   "version": "3.7.4-final"
  },
  "orig_nbformat": 2,
  "kernelspec": {
   "name": "python37464bitbasecondae23b6954b40a4ff4aa0c89b9b80c30af",
   "display_name": "Python 3.7.4 64-bit ('base': conda)"
  }
 },
 "nbformat": 4,
 "nbformat_minor": 2
}