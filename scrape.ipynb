{
 "cells": [
  {
   "cell_type": "code",
   "execution_count": 1,
   "metadata": {},
   "outputs": [],
   "source": [
    "# Dependencies\n",
    "from bs4 import BeautifulSoup as bs\n",
    "import requests\n",
    "from splinter import Browser\n",
    "import time\n",
    "import pandas as pd"
   ]
  },
  {
   "cell_type": "code",
   "execution_count": 86,
   "metadata": {},
   "outputs": [],
   "source": [
    "executable_path = {'executable_path': 'chromedriver'}\n",
    "browser = Browser('chrome', **executable_path, headless=False)\n",
    "\n",
    "url = \"https://www.recenter.tamu.edu/data/housing-activity#!/activity/State/Texas\""
   ]
  },
  {
   "cell_type": "code",
   "execution_count": 87,
   "metadata": {
    "tags": [
     "outputPrepend"
    ]
   },
   "outputs": [],
   "source": [
    "\n",
    "# Code to Collect Texas State Data\n",
    "url = \"https://www.recenter.tamu.edu/data/housing-activity#!/activity/State/Texas\"\n",
    "\n",
    "browser.visit(url)\n",
    "html = browser.html\n",
    "soup = bs(html, 'html.parser')\n",
    "\n",
    "head = soup.find_all('thead')\n",
    "body = soup.find_all('tbody')\n",
    "\n",
    "list_rows = []\n",
    "\n",
    "for items in body:\n",
    "    itemTD = items.find_all('tr')\n",
    "   \n",
    "    for item in itemTD:\n",
    "        list_cells = []\n",
    "        for x in range(7):\n",
    "            list_cells.append(item.find_all('td')[x].text)\n",
    "        list_rows.append(list_cells)\n",
    "\n",
    "housing_df = pd.DataFrame(list_rows)\n",
    "housing_df.columns = ['Date','Sales','Dollar Volume','Average Price','Median Price','Total Listings', 'Months Inventory']"
   ]
  },
  {
   "cell_type": "code",
   "execution_count": 23,
   "metadata": {},
   "outputs": [],
   "source": [
    "# Code to collect the list of counties.\n",
    "\n",
    "browser.visit(url)\n",
    "html = browser.html\n",
    "soup = bs(html, 'html.parser')\n",
    "\n",
    "counties = soup.find_all('div', class_='form-group')[2].find_all('option')\n",
    "county_list = []\n",
    "for county in counties:\n",
    "    county_list.append(county.text)\n",
    "\n",
    "county_list.remove('')\n",
    "county_list"
   ]
  },
  {
   "cell_type": "code",
   "execution_count": 94,
   "metadata": {},
   "outputs": [],
   "source": [
    "# Code to collect all county Data. \n",
    "\n",
    "url = \"https://www.recenter.tamu.edu/data/housing-activity\"\n",
    "y = 0\n",
    "browser.visit(url)\n",
    "\n",
    "\n",
    "for county in county_list:\n",
    "    # /////////// Code currently only pulls first two counties. Remove this Code to make it run for all counties\n",
    "    if y < 2:\n",
    "        y += 1\n",
    "    # /////////////////////////////\n",
    "        browser.find_option_by_text(county).first.click() \n",
    "        html = browser.html\n",
    "\n",
    "        soup = bs(html, 'html.parser')\n",
    "        time.sleep(1)\n",
    "\n",
    "        head = soup.find_all('thead')\n",
    "        body = soup.find_all('tbody')\n",
    "\n",
    "        list_rows = []\n",
    "\n",
    "        for items in body:\n",
    "            itemTD = items.find_all('tr')\n",
    "\n",
    "            for item in itemTD:\n",
    "                list_cells = []\n",
    "                for x in range(7):\n",
    "                    list_cells.append(item.find_all('td')[x].text)\n",
    "                list_rows.append(list_cells)\n",
    "\n",
    "        housing_df = pd.DataFrame(list_rows)\n",
    "        housing_df.columns = ['Date','Sales','Dollar Volume','Average Price','Median Price','Total Listings', 'Months Inventory']\n",
    "        housing_df.to_csv(\"data/\" + county.replace(\" \", \"_\") + \".csv\")\n",
    "        # browser.find_option_by_text(county).first.click() "
   ]
  },
  {
   "cell_type": "code",
   "execution_count": null,
   "metadata": {},
   "outputs": [],
   "source": []
  }
 ],
 "metadata": {
  "language_info": {
   "codemirror_mode": {
    "name": "ipython",
    "version": 3
   },
   "file_extension": ".py",
   "mimetype": "text/x-python",
   "name": "python",
   "nbconvert_exporter": "python",
   "pygments_lexer": "ipython3",
   "version": "3.7.4-final"
  },
  "orig_nbformat": 2,
  "kernelspec": {
   "name": "python37464bitbasecondae23b6954b40a4ff4aa0c89b9b80c30af",
   "display_name": "Python 3.7.4 64-bit ('base': conda)"
  }
 },
 "nbformat": 4,
 "nbformat_minor": 2
}